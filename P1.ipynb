{
 "cells": [
  {
   "cell_type": "code",
   "execution_count": 6,
   "metadata": {
    "collapsed": true
   },
   "outputs": [],
   "source": [
    "#Opencv Version use 3.3., Python 2.7.\n",
    "\n",
    "\n",
    "\n",
    "import matplotlib.pyplot as plt\n",
    "import matplotlib.image as mpimg\n",
    "import numpy as np\n",
    "import cv2\n",
    "from moviepy.editor import VideoFileClip"
   ]
  },
  {
   "cell_type": "code",
   "execution_count": 7,
   "metadata": {
    "scrolled": true
   },
   "outputs": [
    {
     "name": "stdout",
     "output_type": "stream",
     "text": [
      "('This image is:', <type 'numpy.ndarray'>, 'with dimensions:', (540L, 960L, 3L))\n"
     ]
    },
    {
     "data": {
      "text/plain": [
       "<matplotlib.image.AxesImage at 0xcaf5eb8>"
      ]
     },
     "execution_count": 7,
     "metadata": {},
     "output_type": "execute_result"
    }
   ],
   "source": [
    "#image = mpimg.imread('test_images/solidWhiteRight.jpg')\n",
    "image = mpimg.imread('test_images/solidWhiteCurve.jpg')\n",
    "#image = mpimg.imread('test_images/solidYellowCurve2.jpg')\n",
    "print('This image is:', type(image), 'with dimensions:', image.shape)\n",
    "plt.imshow(image) "
   ]
  },
  {
   "cell_type": "code",
   "execution_count": 8,
   "metadata": {
    "collapsed": true
   },
   "outputs": [],
   "source": [
    "def resizeimage(img):\n",
    "    return cv2.resize(img, (960 , 540), interpolation = cv2.INTER_AREA)\n",
    "\n",
    "def grayscale(img):\n",
    "    return cv2.cvtColor(img, cv2.COLOR_RGB2GRAY)\n",
    "\n",
    "def canny(img, low_threshold, high_threshold):\n",
    "    return cv2.Canny(img, low_threshold, high_threshold)\n",
    "\n",
    "def gaussian_blur(img, kernel_size):\n",
    "    return cv2.GaussianBlur(img, (kernel_size, kernel_size), 0)\n",
    "\n",
    "def region_of_interest(img, vertices):\n",
    "    #defining a blank mask to start with\n",
    "    mask = np.zeros_like(img)   \n",
    "    \n",
    "    #defining a 3 channel or 1 channel color to fill the mask with depending on the input image\n",
    "    if len(img.shape) > 3:\n",
    "        channel_count = img.shape[2]  # i.e. 3 or 4 depending on your image\n",
    "        ignore_mask_color = (255,) * channel_count\n",
    "    else:\n",
    "        ignore_mask_color = 255\n",
    "        \n",
    "    #filling pixels inside the polygon defined by \"vertices\" with the fill color    \n",
    "    cv2.fillPoly(mask, [vertices], ignore_mask_color)\n",
    "    \n",
    "    #returning the image only where mask pixels are nonzero\n",
    "    masked_image = cv2.bitwise_and(img, mask)\n",
    "    return masked_image\n",
    "\n",
    "def draw_lines(img, lines, color=[255, 0, 0], thickness=10):\n",
    "    left_slope = []\n",
    "    right_slope = []\n",
    "    left_intersept = []\n",
    "    right_intersept = []\n",
    "    for line in lines:\n",
    "        for x1,y1,x2,y2 in line:\n",
    "            deltay = float(y2-y1)\n",
    "            deltax = float(x2-x1)\n",
    "            slope_line = deltay/deltax\n",
    "            #y = mx+c\n",
    "            mx = slope_line*x1\n",
    "            intercept = y1 - mx            \n",
    "            if slope_line < 0:\n",
    "                left_slope.append(slope_line)\n",
    "                left_intersept.append(intercept)\n",
    "            elif slope_line > 0:\n",
    "                right_slope.append(slope_line)\n",
    "                right_intersept.append(intercept)\n",
    " \n",
    "    #print neg_intersept, pos_intersept              \n",
    "    left_avg_slope = np.mean(left_slope) \n",
    "    right_avg_slope = np.mean(right_slope) \n",
    "    right_in = np.mean(right_intersept)\n",
    "    left_in = np.mean(left_intersept)\n",
    "    top_y = 350\n",
    "    bot_y = 540\n",
    "    #(y-c)/m = x\n",
    "    top_right_x = int(abs((top_y - right_in)/right_avg_slope))\n",
    "    bot_right_x = int(abs((bot_y - right_in)/right_avg_slope))\n",
    "    top_left_x = int(abs((top_y - left_in)/left_avg_slope))\n",
    "    bot_left_x = int(abs((bot_y - left_in)/left_avg_slope))\n",
    "    #print top_left_x, bot_left_x, neg_avg_slope, top_right_x,  bot_right_x, neg_in, neg_intersept   \n",
    "    cv2.line(img, (top_left_x, top_y), (bot_left_x, bot_y), color, thickness)\n",
    "    cv2.line(img, (top_right_x, top_y), (bot_right_x, bot_y), color, thickness)\n",
    "       \n",
    "def hough_lines(img, rho, theta, threshold, min_line_len, max_line_gap):\n",
    "    lines = cv2.HoughLinesP(img, rho, theta, threshold, np.array([]), minLineLength=min_line_len, maxLineGap=max_line_gap)\n",
    "    line_img = np.zeros((img.shape[0], img.shape[1], 3), dtype=np.uint8)\n",
    "    draw_lines(line_img, lines)\n",
    "    return line_img\n",
    "\n",
    "def weighted_img(img, initial_img, alpha, betha, gamma ):\n",
    "    return cv2.addWeighted(initial_img, alpha, img, betha, gamma)\n"
   ]
  },
  {
   "cell_type": "code",
   "execution_count": 9,
   "metadata": {
    "collapsed": true
   },
   "outputs": [],
   "source": [
    "def process_image(image):\n",
    "    gray_image = grayscale(image)\n",
    "    #resize_image = resizeimage(gray_image)\n",
    "    #intial_image = resizeimage(image)\n",
    "    canny_image = canny(gray_image, 200, 220)\n",
    "    blur_image = gaussian_blur(canny_image, 7)\n",
    "    vertices = np.array([(100, 539), (900, 539), (600, 350), (400, 350)], dtype=np.int32)\n",
    "    #vertices = np.array([(100, 720), (1200, 720), (800, 400), (200, 400)], dtype=np.int32)\n",
    "    ROI_image = region_of_interest(blur_image, vertices)\n",
    "    rho = 1 \n",
    "    theta = np.pi/180 \n",
    "    threshold = 70     \n",
    "    min_line_length = 10 \n",
    "    max_line_gap = 1 \n",
    "    hough_image = hough_lines(ROI_image, rho, theta, threshold, min_line_length, max_line_gap)\n",
    "    weight_image = weighted_img(hough_image, image, 0.8, 1, 0)\n",
    "    #weight_image = weighted_img(hough_image, intial_image, 0.8, 1, 0)\n",
    "    return weight_image"
   ]
  },
  {
   "cell_type": "code",
   "execution_count": 10,
   "metadata": {},
   "outputs": [
    {
     "name": "stdout",
     "output_type": "stream",
     "text": [
      "[MoviePy] >>>> Building video test_videos_output/solidYellowLeft.mp4\n",
      "[MoviePy] Writing video test_videos_output/solidYellowLeft.mp4\n"
     ]
    },
    {
     "name": "stderr",
     "output_type": "stream",
     "text": [
      "100%|███████████████████████████████████████████████████████████████████████████████▉| 681/682 [00:12<00:00, 54.67it/s]\n"
     ]
    },
    {
     "name": "stdout",
     "output_type": "stream",
     "text": [
      "[MoviePy] Done.\n",
      "[MoviePy] >>>> Video ready: test_videos_output/solidYellowLeft.mp4 \n",
      "\n"
     ]
    }
   ],
   "source": [
    "#yellow_output = 'test_videos_output/challenge.mp4'\n",
    "yellow_output = 'test_videos_output/solidYellowLeft.mp4'\n",
    "#yellow_output = 'test_videos_output/solidWhiteRight.mp4'\n",
    "## To speed up the testing process you may want to try your pipeline on a shorter subclip of the video\n",
    "## To do so add .subclip(start_second,end_second) to the end of the line below\n",
    "## Where start_second and end_second are integer values representing the start and end of the subclip\n",
    "## You may also uncomment the following line for a subclip of the first 5 seconds\n",
    "##clip2 = VideoFileClip('test_videos/solidYellowLeft.mp4').subclip(0,5)\n",
    "#clip2 = VideoFileClip('test_videos/challenge.mp4')\n",
    "#clip2 = VideoFileClip('test_videos/solidWhiteRight.mp4')\n",
    "clip2 = VideoFileClip('test_videos/solidYellowLeft.mp4')\n",
    "yellow_clip = clip2.fl_image(process_image)\n",
    "yellow_clip.write_videofile(yellow_output, audio=False)\n",
    "    "
   ]
  },
  {
   "cell_type": "code",
   "execution_count": null,
   "metadata": {
    "collapsed": true
   },
   "outputs": [],
   "source": []
  }
 ],
 "metadata": {
  "kernelspec": {
   "display_name": "Python 2",
   "language": "python",
   "name": "python2"
  },
  "language_info": {
   "codemirror_mode": {
    "name": "ipython",
    "version": 2
   },
   "file_extension": ".py",
   "mimetype": "text/x-python",
   "name": "python",
   "nbconvert_exporter": "python",
   "pygments_lexer": "ipython2",
   "version": "2.7.13"
  }
 },
 "nbformat": 4,
 "nbformat_minor": 2
}
